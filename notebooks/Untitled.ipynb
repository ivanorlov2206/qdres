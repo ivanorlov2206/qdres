{
 "cells": [
  {
   "cell_type": "code",
   "execution_count": 21,
   "metadata": {},
   "outputs": [
    {
     "data": {
      "image/png": "[encoded data removed]",
      "text/plain": [
       "<IPython.core.display.Image object>"
      ]
     },
     "execution_count": 21,
     "metadata": {},
     "output_type": "execute_result"
    }
   ],
   "source": [
    "from IPython.display import Image\n",
    "import cv2\n",
    "import numpy as np\n",
    "\n",
    "impath = \"/home/mineorpe/testimg.png\"\n",
    "Image(impath)"
   ]
  },
  {
   "cell_type": "code",
   "execution_count": 22,
   "metadata": {},
   "outputs": [],
   "source": [
    "def classif(fname):\n",
    "    # ------------ image preprocessing ---------------------\n",
    "    digit2 = cv2.imread(fname)\n",
    "    blackboard_gray = cv2.cvtColor(digit2, cv2.COLOR_BGR2GRAY)\n",
    "    blur1 = cv2.medianBlur(blackboard_gray, 15)\n",
    "    blur1 = cv2.GaussianBlur(blur1, (5, 5), 0)\n",
    "    thresh1 = cv2.threshold(blur1, 127, 255, cv2.THRESH_BINARY)[1]\n",
    "    # -------------- image segmentation----------------------\n",
    "    blackboard_cnts = cv2.findContours(thresh1.copy(), cv2.RETR_TREE, cv2.CHAIN_APPROX_NONE)[0]\n",
    "    if len(blackboard_cnts) >= 1:\n",
    "        cnt = max(blackboard_cnts, key=cv2.contourArea)\n",
    "        # print(cv2.contourArea(cnt))\n",
    "        if cv2.contourArea(cnt) > 2000:\n",
    "            x, y, w, h = cv2.boundingRect(cnt)\n",
    "            digit = blackboard_gray[y:y + h, x:x + w]\n",
    "            cv2.imwrite(\"/home/mineorpe/testimg2.png\", digit)\n",
    "            nimg = crop_and_center_image(digit)\n",
    "            cv2.imwrite(\"/home/mineorpe/testimg3.png\", nimg)\n",
    "\n",
    "\n",
    "\n",
    "def crop_and_center_image(img):\n",
    "    h, w = img.shape\n",
    "    nw = w\n",
    "    nh = h\n",
    "    if w > h:\n",
    "        nh = int(224 / w * h)\n",
    "        nw = 224\n",
    "        print(12121)\n",
    "    else:\n",
    "        nw = int(224 / h * w)\n",
    "        nh = 224\n",
    "    img = cv2.resize(img, (nw, nh))\n",
    "    iy = (224 - nh) // 2\n",
    "    ix = (224 - nw) // 2\n",
    "    nimg = np.zeros((224, 224), dtype=np.uint8)\n",
    "    nimg[iy:iy + nh, ix:ix + nw] = img\n",
    "    return nimg"
   ]
  },
  {
   "cell_type": "code",
   "execution_count": 23,
   "metadata": {},
   "outputs": [
    {
     "name": "stdout",
     "output_type": "stream",
     "text": [
      "12121\n"
     ]
    }
   ],
   "source": [
    "classif(impath)"
   ]
  },
  {
   "cell_type": "code",
   "execution_count": 24,
   "metadata": {},
   "outputs": [
    {
     "data": {
      "image/png": "[encoded data removed]",
      "text/plain": [
       "<IPython.core.display.Image object>"
      ]
     },
     "execution_count": 24,
     "metadata": {},
     "output_type": "execute_result"
    }
   ],
   "source": [
    "Image(\"/home/mineorpe/testimg2.png\")"
   ]
  },
  {
   "cell_type": "code",
   "execution_count": 25,
   "metadata": {},
   "outputs": [
    {
     "data": {
      "image/png": "[encoded data removed]",
      "text/plain": [
       "<IPython.core.display.Image object>"
      ]
     },
     "execution_count": 25,
     "metadata": {},
     "output_type": "execute_result"
    }
   ],
   "source": [
    "Image(\"/home/mineorpe/testimg3.png\")"
   ]
  }
 ],
 "metadata": {
  "kernelspec": {
   "display_name": "Python 3",
   "language": "python",
   "name": "python3"
  },
  "language_info": {
   "codemirror_mode": {
    "name": "ipython",
    "version": 3
   },
   "file_extension": ".py",
   "mimetype": "text/x-python",
   "name": "python",
   "nbconvert_exporter": "python",
   "pygments_lexer": "ipython3",
   "version": "3.6.9"
  }
 },
 "nbformat": 4,
 "nbformat_minor": 2
}
